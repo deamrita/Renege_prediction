{
 "cells": [
  {
   "cell_type": "markdown",
   "id": "a67b0926",
   "metadata": {},
   "source": [
    "# Question2: Develop a logistic regression model that can be used by ScaleneWorks for predicting candidates who are unlikely to join after accepting the offer. Which are the variables having statistical significance on renege? "
   ]
  },
  {
   "cell_type": "code",
   "execution_count": 1,
   "id": "4afb95b2",
   "metadata": {},
   "outputs": [],
   "source": [
    "#Import Libraries\n",
    "import numpy as np\n",
    "import pandas as pd\n",
    "import seaborn as sns\n",
    "\n",
    "%matplotlib inline"
   ]
  },
  {
   "cell_type": "code",
   "execution_count": 2,
   "id": "3897c836",
   "metadata": {},
   "outputs": [
    {
     "data": {
      "text/html": [
       "<div>\n",
       "<style scoped>\n",
       "    .dataframe tbody tr th:only-of-type {\n",
       "        vertical-align: middle;\n",
       "    }\n",
       "\n",
       "    .dataframe tbody tr th {\n",
       "        vertical-align: top;\n",
       "    }\n",
       "\n",
       "    .dataframe thead th {\n",
       "        text-align: right;\n",
       "    }\n",
       "</style>\n",
       "<table border=\"1\" class=\"dataframe\">\n",
       "  <thead>\n",
       "    <tr style=\"text-align: right;\">\n",
       "      <th></th>\n",
       "      <th>Status</th>\n",
       "      <th>Candidate Ref</th>\n",
       "      <th>DOJ Extended</th>\n",
       "      <th>Duration to accept offer</th>\n",
       "      <th>Notice period</th>\n",
       "      <th>Offered band</th>\n",
       "      <th>Pecent hike expected in CTC</th>\n",
       "      <th>Percent hike offered in CTC</th>\n",
       "      <th>Percent difference CTC</th>\n",
       "      <th>Joining Bonus</th>\n",
       "      <th>Candidate relocate actual</th>\n",
       "      <th>Gender</th>\n",
       "      <th>Candidate Source</th>\n",
       "      <th>Rex in Yrs</th>\n",
       "      <th>LOB</th>\n",
       "      <th>Location</th>\n",
       "      <th>Age</th>\n",
       "    </tr>\n",
       "  </thead>\n",
       "  <tbody>\n",
       "    <tr>\n",
       "      <th>0</th>\n",
       "      <td>Joined</td>\n",
       "      <td>2110407</td>\n",
       "      <td>Yes</td>\n",
       "      <td>14.0</td>\n",
       "      <td>30</td>\n",
       "      <td>E2</td>\n",
       "      <td>-20.79</td>\n",
       "      <td>13.16</td>\n",
       "      <td>42.86</td>\n",
       "      <td>No</td>\n",
       "      <td>No</td>\n",
       "      <td>Female</td>\n",
       "      <td>Agency</td>\n",
       "      <td>7</td>\n",
       "      <td>ERS</td>\n",
       "      <td>Noida</td>\n",
       "      <td>34</td>\n",
       "    </tr>\n",
       "    <tr>\n",
       "      <th>1</th>\n",
       "      <td>Joined</td>\n",
       "      <td>2112635</td>\n",
       "      <td>No</td>\n",
       "      <td>18.0</td>\n",
       "      <td>30</td>\n",
       "      <td>E2</td>\n",
       "      <td>50.00</td>\n",
       "      <td>320.00</td>\n",
       "      <td>180.00</td>\n",
       "      <td>No</td>\n",
       "      <td>No</td>\n",
       "      <td>Male</td>\n",
       "      <td>Employee Referral</td>\n",
       "      <td>8</td>\n",
       "      <td>INFRA</td>\n",
       "      <td>Chennai</td>\n",
       "      <td>34</td>\n",
       "    </tr>\n",
       "    <tr>\n",
       "      <th>2</th>\n",
       "      <td>Joined</td>\n",
       "      <td>2112838</td>\n",
       "      <td>No</td>\n",
       "      <td>3.0</td>\n",
       "      <td>45</td>\n",
       "      <td>E2</td>\n",
       "      <td>42.84</td>\n",
       "      <td>42.84</td>\n",
       "      <td>0.00</td>\n",
       "      <td>No</td>\n",
       "      <td>No</td>\n",
       "      <td>Male</td>\n",
       "      <td>Agency</td>\n",
       "      <td>4</td>\n",
       "      <td>INFRA</td>\n",
       "      <td>Noida</td>\n",
       "      <td>27</td>\n",
       "    </tr>\n",
       "    <tr>\n",
       "      <th>3</th>\n",
       "      <td>Joined</td>\n",
       "      <td>2115021</td>\n",
       "      <td>No</td>\n",
       "      <td>26.0</td>\n",
       "      <td>30</td>\n",
       "      <td>E2</td>\n",
       "      <td>42.84</td>\n",
       "      <td>42.84</td>\n",
       "      <td>0.00</td>\n",
       "      <td>No</td>\n",
       "      <td>No</td>\n",
       "      <td>Male</td>\n",
       "      <td>Employee Referral</td>\n",
       "      <td>4</td>\n",
       "      <td>INFRA</td>\n",
       "      <td>Noida</td>\n",
       "      <td>34</td>\n",
       "    </tr>\n",
       "    <tr>\n",
       "      <th>4</th>\n",
       "      <td>Joined</td>\n",
       "      <td>2115125</td>\n",
       "      <td>Yes</td>\n",
       "      <td>1.0</td>\n",
       "      <td>120</td>\n",
       "      <td>E2</td>\n",
       "      <td>42.59</td>\n",
       "      <td>42.59</td>\n",
       "      <td>0.00</td>\n",
       "      <td>No</td>\n",
       "      <td>Yes</td>\n",
       "      <td>Male</td>\n",
       "      <td>Employee Referral</td>\n",
       "      <td>6</td>\n",
       "      <td>INFRA</td>\n",
       "      <td>Noida</td>\n",
       "      <td>34</td>\n",
       "    </tr>\n",
       "  </tbody>\n",
       "</table>\n",
       "</div>"
      ],
      "text/plain": [
       "   Status  Candidate Ref DOJ Extended  Duration to accept offer  \\\n",
       "0  Joined        2110407          Yes                      14.0   \n",
       "1  Joined        2112635           No                      18.0   \n",
       "2  Joined        2112838           No                       3.0   \n",
       "3  Joined        2115021           No                      26.0   \n",
       "4  Joined        2115125          Yes                       1.0   \n",
       "\n",
       "   Notice period Offered band  Pecent hike expected in CTC  \\\n",
       "0             30           E2                       -20.79   \n",
       "1             30           E2                        50.00   \n",
       "2             45           E2                        42.84   \n",
       "3             30           E2                        42.84   \n",
       "4            120           E2                        42.59   \n",
       "\n",
       "   Percent hike offered in CTC  Percent difference CTC Joining Bonus  \\\n",
       "0                        13.16                   42.86            No   \n",
       "1                       320.00                  180.00            No   \n",
       "2                        42.84                    0.00            No   \n",
       "3                        42.84                    0.00            No   \n",
       "4                        42.59                    0.00            No   \n",
       "\n",
       "  Candidate relocate actual  Gender   Candidate Source  Rex in Yrs    LOB  \\\n",
       "0                        No  Female             Agency           7    ERS   \n",
       "1                        No    Male  Employee Referral           8  INFRA   \n",
       "2                        No    Male             Agency           4  INFRA   \n",
       "3                        No    Male  Employee Referral           4  INFRA   \n",
       "4                       Yes    Male  Employee Referral           6  INFRA   \n",
       "\n",
       "  Location  Age  \n",
       "0    Noida   34  \n",
       "1  Chennai   34  \n",
       "2    Noida   27  \n",
       "3    Noida   34  \n",
       "4    Noida   34  "
      ]
     },
     "execution_count": 2,
     "metadata": {},
     "output_type": "execute_result"
    }
   ],
   "source": [
    "df = pd.read_csv(\"C:/Users/Amrita/OneDrive/Desktop/renege.csv\")\n",
    "df.head()"
   ]
  },
  {
   "cell_type": "code",
   "execution_count": 3,
   "id": "95a5c391",
   "metadata": {},
   "outputs": [
    {
     "data": {
      "text/plain": [
       "(12333, 17)"
      ]
     },
     "execution_count": 3,
     "metadata": {},
     "output_type": "execute_result"
    }
   ],
   "source": [
    "df.shape"
   ]
  },
  {
   "cell_type": "code",
   "execution_count": 4,
   "id": "1530a1ea",
   "metadata": {},
   "outputs": [
    {
     "data": {
      "text/plain": [
       "Status                          object\n",
       "Candidate Ref                    int64\n",
       "DOJ Extended                    object\n",
       "Duration to accept offer       float64\n",
       "Notice period                    int64\n",
       "Offered band                    object\n",
       "Pecent hike expected in CTC    float64\n",
       "Percent hike offered in CTC    float64\n",
       "Percent difference CTC         float64\n",
       "Joining Bonus                   object\n",
       "Candidate relocate actual       object\n",
       "Gender                          object\n",
       "Candidate Source                object\n",
       "Rex in Yrs                       int64\n",
       "LOB                             object\n",
       "Location                        object\n",
       "Age                              int64\n",
       "dtype: object"
      ]
     },
     "execution_count": 4,
     "metadata": {},
     "output_type": "execute_result"
    }
   ],
   "source": [
    "df.dtypes"
   ]
  },
  {
   "cell_type": "code",
   "execution_count": 5,
   "id": "4396715e",
   "metadata": {},
   "outputs": [
    {
     "data": {
      "text/plain": [
       "Status                            0\n",
       "Candidate Ref                     0\n",
       "DOJ Extended                      0\n",
       "Duration to accept offer       2719\n",
       "Notice period                     0\n",
       "Offered band                      0\n",
       "Pecent hike expected in CTC     747\n",
       "Percent hike offered in CTC     596\n",
       "Percent difference CTC          851\n",
       "Joining Bonus                     0\n",
       "Candidate relocate actual         0\n",
       "Gender                            0\n",
       "Candidate Source                  0\n",
       "Rex in Yrs                        0\n",
       "LOB                               0\n",
       "Location                          0\n",
       "Age                               0\n",
       "dtype: int64"
      ]
     },
     "execution_count": 5,
     "metadata": {},
     "output_type": "execute_result"
    }
   ],
   "source": [
    "df.isna().sum()"
   ]
  },
  {
   "cell_type": "code",
   "execution_count": 6,
   "id": "2e49e199",
   "metadata": {},
   "outputs": [],
   "source": [
    "df.dropna(inplace = True)"
   ]
  },
  {
   "cell_type": "code",
   "execution_count": 7,
   "id": "b6fbc3ae",
   "metadata": {},
   "outputs": [
    {
     "data": {
      "text/plain": [
       "Status                         0\n",
       "Candidate Ref                  0\n",
       "DOJ Extended                   0\n",
       "Duration to accept offer       0\n",
       "Notice period                  0\n",
       "Offered band                   0\n",
       "Pecent hike expected in CTC    0\n",
       "Percent hike offered in CTC    0\n",
       "Percent difference CTC         0\n",
       "Joining Bonus                  0\n",
       "Candidate relocate actual      0\n",
       "Gender                         0\n",
       "Candidate Source               0\n",
       "Rex in Yrs                     0\n",
       "LOB                            0\n",
       "Location                       0\n",
       "Age                            0\n",
       "dtype: int64"
      ]
     },
     "execution_count": 7,
     "metadata": {},
     "output_type": "execute_result"
    }
   ],
   "source": [
    "df.isna().sum()"
   ]
  },
  {
   "cell_type": "code",
   "execution_count": 8,
   "id": "08b4d7fa",
   "metadata": {},
   "outputs": [
    {
     "data": {
      "text/plain": [
       "(9011, 17)"
      ]
     },
     "execution_count": 8,
     "metadata": {},
     "output_type": "execute_result"
    }
   ],
   "source": [
    "df.shape"
   ]
  },
  {
   "cell_type": "code",
   "execution_count": 9,
   "id": "0ce7f90e",
   "metadata": {},
   "outputs": [
    {
     "data": {
      "text/html": [
       "<div>\n",
       "<style scoped>\n",
       "    .dataframe tbody tr th:only-of-type {\n",
       "        vertical-align: middle;\n",
       "    }\n",
       "\n",
       "    .dataframe tbody tr th {\n",
       "        vertical-align: top;\n",
       "    }\n",
       "\n",
       "    .dataframe thead th {\n",
       "        text-align: right;\n",
       "    }\n",
       "</style>\n",
       "<table border=\"1\" class=\"dataframe\">\n",
       "  <thead>\n",
       "    <tr style=\"text-align: right;\">\n",
       "      <th></th>\n",
       "      <th>Candidate Ref</th>\n",
       "      <th>Duration to accept offer</th>\n",
       "      <th>Notice period</th>\n",
       "      <th>Pecent hike expected in CTC</th>\n",
       "      <th>Percent hike offered in CTC</th>\n",
       "      <th>Percent difference CTC</th>\n",
       "      <th>Rex in Yrs</th>\n",
       "      <th>Age</th>\n",
       "    </tr>\n",
       "  </thead>\n",
       "  <tbody>\n",
       "    <tr>\n",
       "      <th>count</th>\n",
       "      <td>9.011000e+03</td>\n",
       "      <td>9011.000000</td>\n",
       "      <td>9011.000000</td>\n",
       "      <td>9011.000000</td>\n",
       "      <td>9011.000000</td>\n",
       "      <td>9011.000000</td>\n",
       "      <td>9011.000000</td>\n",
       "      <td>9011.000000</td>\n",
       "    </tr>\n",
       "    <tr>\n",
       "      <th>mean</th>\n",
       "      <td>2.843302e+06</td>\n",
       "      <td>21.369437</td>\n",
       "      <td>39.278659</td>\n",
       "      <td>43.861520</td>\n",
       "      <td>40.656652</td>\n",
       "      <td>-1.569059</td>\n",
       "      <td>4.239929</td>\n",
       "      <td>29.916879</td>\n",
       "    </tr>\n",
       "    <tr>\n",
       "      <th>std</th>\n",
       "      <td>4.864133e+05</td>\n",
       "      <td>25.938301</td>\n",
       "      <td>22.230658</td>\n",
       "      <td>29.860747</td>\n",
       "      <td>36.084426</td>\n",
       "      <td>19.608174</td>\n",
       "      <td>2.552387</td>\n",
       "      <td>4.116165</td>\n",
       "    </tr>\n",
       "    <tr>\n",
       "      <th>min</th>\n",
       "      <td>2.109586e+06</td>\n",
       "      <td>-228.000000</td>\n",
       "      <td>0.000000</td>\n",
       "      <td>-68.830000</td>\n",
       "      <td>-60.530000</td>\n",
       "      <td>-67.270000</td>\n",
       "      <td>0.000000</td>\n",
       "      <td>20.000000</td>\n",
       "    </tr>\n",
       "    <tr>\n",
       "      <th>25%</th>\n",
       "      <td>2.383377e+06</td>\n",
       "      <td>3.000000</td>\n",
       "      <td>30.000000</td>\n",
       "      <td>27.270000</td>\n",
       "      <td>22.080000</td>\n",
       "      <td>-8.330000</td>\n",
       "      <td>3.000000</td>\n",
       "      <td>27.000000</td>\n",
       "    </tr>\n",
       "    <tr>\n",
       "      <th>50%</th>\n",
       "      <td>2.807385e+06</td>\n",
       "      <td>10.000000</td>\n",
       "      <td>30.000000</td>\n",
       "      <td>40.000000</td>\n",
       "      <td>36.000000</td>\n",
       "      <td>0.000000</td>\n",
       "      <td>4.000000</td>\n",
       "      <td>29.000000</td>\n",
       "    </tr>\n",
       "    <tr>\n",
       "      <th>75%</th>\n",
       "      <td>3.300058e+06</td>\n",
       "      <td>33.000000</td>\n",
       "      <td>60.000000</td>\n",
       "      <td>53.850000</td>\n",
       "      <td>50.000000</td>\n",
       "      <td>0.000000</td>\n",
       "      <td>6.000000</td>\n",
       "      <td>34.000000</td>\n",
       "    </tr>\n",
       "    <tr>\n",
       "      <th>max</th>\n",
       "      <td>3.836076e+06</td>\n",
       "      <td>224.000000</td>\n",
       "      <td>120.000000</td>\n",
       "      <td>359.770000</td>\n",
       "      <td>471.430000</td>\n",
       "      <td>300.000000</td>\n",
       "      <td>24.000000</td>\n",
       "      <td>62.000000</td>\n",
       "    </tr>\n",
       "  </tbody>\n",
       "</table>\n",
       "</div>"
      ],
      "text/plain": [
       "       Candidate Ref  Duration to accept offer  Notice period  \\\n",
       "count   9.011000e+03               9011.000000    9011.000000   \n",
       "mean    2.843302e+06                 21.369437      39.278659   \n",
       "std     4.864133e+05                 25.938301      22.230658   \n",
       "min     2.109586e+06               -228.000000       0.000000   \n",
       "25%     2.383377e+06                  3.000000      30.000000   \n",
       "50%     2.807385e+06                 10.000000      30.000000   \n",
       "75%     3.300058e+06                 33.000000      60.000000   \n",
       "max     3.836076e+06                224.000000     120.000000   \n",
       "\n",
       "       Pecent hike expected in CTC  Percent hike offered in CTC  \\\n",
       "count                  9011.000000                  9011.000000   \n",
       "mean                     43.861520                    40.656652   \n",
       "std                      29.860747                    36.084426   \n",
       "min                     -68.830000                   -60.530000   \n",
       "25%                      27.270000                    22.080000   \n",
       "50%                      40.000000                    36.000000   \n",
       "75%                      53.850000                    50.000000   \n",
       "max                     359.770000                   471.430000   \n",
       "\n",
       "       Percent difference CTC   Rex in Yrs          Age  \n",
       "count             9011.000000  9011.000000  9011.000000  \n",
       "mean                -1.569059     4.239929    29.916879  \n",
       "std                 19.608174     2.552387     4.116165  \n",
       "min                -67.270000     0.000000    20.000000  \n",
       "25%                 -8.330000     3.000000    27.000000  \n",
       "50%                  0.000000     4.000000    29.000000  \n",
       "75%                  0.000000     6.000000    34.000000  \n",
       "max                300.000000    24.000000    62.000000  "
      ]
     },
     "execution_count": 9,
     "metadata": {},
     "output_type": "execute_result"
    }
   ],
   "source": [
    "df.describe()"
   ]
  },
  {
   "cell_type": "code",
   "execution_count": 10,
   "id": "82987ce4",
   "metadata": {},
   "outputs": [
    {
     "data": {
      "text/plain": [
       "Joined        7326\n",
       "Not Joined    1685\n",
       "Name: Status, dtype: int64"
      ]
     },
     "execution_count": 10,
     "metadata": {},
     "output_type": "execute_result"
    }
   ],
   "source": [
    "df['Status'].value_counts()"
   ]
  },
  {
   "cell_type": "code",
   "execution_count": 11,
   "id": "48918656",
   "metadata": {},
   "outputs": [
    {
     "name": "stderr",
     "output_type": "stream",
     "text": [
      "C:\\Users\\Amrita\\anaconda3\\lib\\site-packages\\seaborn\\_decorators.py:36: FutureWarning: Pass the following variable as a keyword arg: x. From version 0.12, the only valid positional argument will be `data`, and passing other arguments without an explicit keyword will result in an error or misinterpretation.\n",
      "  warnings.warn(\n"
     ]
    },
    {
     "data": {
      "text/plain": [
       "<AxesSubplot:xlabel='Status', ylabel='count'>"
      ]
     },
     "execution_count": 11,
     "metadata": {},
     "output_type": "execute_result"
    },
    {
     "data": {
      "image/png": "[encoded data removed]",
      "text/plain": [
       "<Figure size 432x288 with 1 Axes>"
      ]
     },
     "metadata": {
      "needs_background": "light"
     },
     "output_type": "display_data"
    }
   ],
   "source": [
    "#Visualize this count \n",
    "sns.countplot(df['Status'])"
   ]
  },
  {
   "cell_type": "code",
   "execution_count": 12,
   "id": "4ef0843c",
   "metadata": {},
   "outputs": [
    {
     "name": "stdout",
     "output_type": "stream",
     "text": [
      "Status : ['Joined' 'Not Joined']\n",
      "Joined        7326\n",
      "Not Joined    1685\n",
      "Name: Status, dtype: int64\n",
      "_________________________________________________________________\n",
      "DOJ Extended : ['Yes' 'No']\n",
      "No     4802\n",
      "Yes    4209\n",
      "Name: DOJ Extended, dtype: int64\n",
      "_________________________________________________________________\n",
      "Offered band : ['E2' 'E1' 'E3' 'E0']\n",
      "E1    5578\n",
      "E2    2717\n",
      "E3     505\n",
      "E0     211\n",
      "Name: Offered band, dtype: int64\n",
      "_________________________________________________________________\n",
      "Joining Bonus : ['No' 'Yes']\n",
      "No     8593\n",
      "Yes     418\n",
      "Name: Joining Bonus, dtype: int64\n",
      "_________________________________________________________________\n",
      "Candidate relocate actual : ['No' 'Yes']\n",
      "No     7717\n",
      "Yes    1294\n",
      "Name: Candidate relocate actual, dtype: int64\n",
      "_________________________________________________________________\n",
      "Gender : ['Female' 'Male']\n",
      "Male      7457\n",
      "Female    1554\n",
      "Name: Gender, dtype: int64\n",
      "_________________________________________________________________\n",
      "Candidate Source : ['Agency' 'Employee Referral' 'Direct']\n",
      "Direct               4808\n",
      "Agency               2587\n",
      "Employee Referral    1616\n",
      "Name: Candidate Source, dtype: int64\n",
      "_________________________________________________________________\n",
      "LOB : ['ERS' 'INFRA' 'Healthcare' 'BFSI' 'CSMP' 'ETS' 'AXON' 'EAS' 'MMS']\n",
      "INFRA         2861\n",
      "ERS           2427\n",
      "BFSI          1396\n",
      "ETS            691\n",
      "CSMP           580\n",
      "AXON           569\n",
      "EAS            346\n",
      "Healthcare     126\n",
      "MMS             15\n",
      "Name: LOB, dtype: int64\n",
      "_________________________________________________________________\n",
      "Location : ['Noida' 'Chennai' 'Gurgaon' 'Bangalore' 'Hyderabad' 'Kolkata' 'Cochin'\n",
      " 'Pune' 'Others' 'Mumbai' 'Ahmedabad']\n",
      "Chennai      3152\n",
      "Noida        2735\n",
      "Bangalore    2234\n",
      "Hyderabad     341\n",
      "Mumbai        198\n",
      "Gurgaon       147\n",
      "Kolkata       129\n",
      "Pune           48\n",
      "Others         13\n",
      "Cochin          8\n",
      "Ahmedabad       6\n",
      "Name: Location, dtype: int64\n",
      "_________________________________________________________________\n"
     ]
    }
   ],
   "source": [
    "#Print all of the object data types and their unique values\n",
    "for column in df.columns:\n",
    "    if df[column].dtype == object:\n",
    "        print(str(column) + ' : ' + str(df[column].unique()))\n",
    "        print(df[column].value_counts())\n",
    "        print(\"_________________________________________________________________\")"
   ]
  },
  {
   "cell_type": "code",
   "execution_count": 13,
   "id": "818fe5b2",
   "metadata": {},
   "outputs": [],
   "source": [
    "#Remove unneeded columns\n",
    "\n",
    "#df = df.drop('Candidate Ref', axis = 1) #Candidate Ref\n"
   ]
  },
  {
   "cell_type": "code",
   "execution_count": 14,
   "id": "43fe118c",
   "metadata": {},
   "outputs": [
    {
     "data": {
      "text/plain": [
       "Status                         0\n",
       "Candidate Ref                  0\n",
       "DOJ Extended                   0\n",
       "Duration to accept offer       0\n",
       "Notice period                  0\n",
       "Offered band                   0\n",
       "Pecent hike expected in CTC    0\n",
       "Percent hike offered in CTC    0\n",
       "Percent difference CTC         0\n",
       "Joining Bonus                  0\n",
       "Candidate relocate actual      0\n",
       "Gender                         0\n",
       "Candidate Source               0\n",
       "Rex in Yrs                     0\n",
       "LOB                            0\n",
       "Location                       0\n",
       "Age                            0\n",
       "dtype: int64"
      ]
     },
     "execution_count": 14,
     "metadata": {},
     "output_type": "execute_result"
    }
   ],
   "source": [
    "df.isna().sum()"
   ]
  },
  {
   "cell_type": "code",
   "execution_count": 15,
   "id": "65cadf31",
   "metadata": {},
   "outputs": [
    {
     "data": {
      "text/html": [
       "<div>\n",
       "<style scoped>\n",
       "    .dataframe tbody tr th:only-of-type {\n",
       "        vertical-align: middle;\n",
       "    }\n",
       "\n",
       "    .dataframe tbody tr th {\n",
       "        vertical-align: top;\n",
       "    }\n",
       "\n",
       "    .dataframe thead th {\n",
       "        text-align: right;\n",
       "    }\n",
       "</style>\n",
       "<table border=\"1\" class=\"dataframe\">\n",
       "  <thead>\n",
       "    <tr style=\"text-align: right;\">\n",
       "      <th></th>\n",
       "      <th>Candidate Ref</th>\n",
       "      <th>Duration to accept offer</th>\n",
       "      <th>Notice period</th>\n",
       "      <th>Pecent hike expected in CTC</th>\n",
       "      <th>Percent hike offered in CTC</th>\n",
       "      <th>Percent difference CTC</th>\n",
       "      <th>Rex in Yrs</th>\n",
       "      <th>Age</th>\n",
       "    </tr>\n",
       "  </thead>\n",
       "  <tbody>\n",
       "    <tr>\n",
       "      <th>Candidate Ref</th>\n",
       "      <td>1.000000</td>\n",
       "      <td>-0.028813</td>\n",
       "      <td>-0.120604</td>\n",
       "      <td>0.077806</td>\n",
       "      <td>0.045478</td>\n",
       "      <td>-0.016484</td>\n",
       "      <td>-0.046759</td>\n",
       "      <td>0.305865</td>\n",
       "    </tr>\n",
       "    <tr>\n",
       "      <th>Duration to accept offer</th>\n",
       "      <td>-0.028813</td>\n",
       "      <td>1.000000</td>\n",
       "      <td>0.363399</td>\n",
       "      <td>0.019011</td>\n",
       "      <td>0.008789</td>\n",
       "      <td>-0.007743</td>\n",
       "      <td>0.113525</td>\n",
       "      <td>0.020527</td>\n",
       "    </tr>\n",
       "    <tr>\n",
       "      <th>Notice period</th>\n",
       "      <td>-0.120604</td>\n",
       "      <td>0.363399</td>\n",
       "      <td>1.000000</td>\n",
       "      <td>-0.005878</td>\n",
       "      <td>-0.013772</td>\n",
       "      <td>-0.014865</td>\n",
       "      <td>0.180287</td>\n",
       "      <td>-0.006089</td>\n",
       "    </tr>\n",
       "    <tr>\n",
       "      <th>Pecent hike expected in CTC</th>\n",
       "      <td>0.077806</td>\n",
       "      <td>0.019011</td>\n",
       "      <td>-0.005878</td>\n",
       "      <td>1.000000</td>\n",
       "      <td>0.669025</td>\n",
       "      <td>-0.161867</td>\n",
       "      <td>-0.211002</td>\n",
       "      <td>-0.129688</td>\n",
       "    </tr>\n",
       "    <tr>\n",
       "      <th>Percent hike offered in CTC</th>\n",
       "      <td>0.045478</td>\n",
       "      <td>0.008789</td>\n",
       "      <td>-0.013772</td>\n",
       "      <td>0.669025</td>\n",
       "      <td>1.000000</td>\n",
       "      <td>0.597971</td>\n",
       "      <td>-0.107519</td>\n",
       "      <td>-0.075892</td>\n",
       "    </tr>\n",
       "    <tr>\n",
       "      <th>Percent difference CTC</th>\n",
       "      <td>-0.016484</td>\n",
       "      <td>-0.007743</td>\n",
       "      <td>-0.014865</td>\n",
       "      <td>-0.161867</td>\n",
       "      <td>0.597971</td>\n",
       "      <td>1.000000</td>\n",
       "      <td>0.080041</td>\n",
       "      <td>0.036725</td>\n",
       "    </tr>\n",
       "    <tr>\n",
       "      <th>Rex in Yrs</th>\n",
       "      <td>-0.046759</td>\n",
       "      <td>0.113525</td>\n",
       "      <td>0.180287</td>\n",
       "      <td>-0.211002</td>\n",
       "      <td>-0.107519</td>\n",
       "      <td>0.080041</td>\n",
       "      <td>1.000000</td>\n",
       "      <td>0.570410</td>\n",
       "    </tr>\n",
       "    <tr>\n",
       "      <th>Age</th>\n",
       "      <td>0.305865</td>\n",
       "      <td>0.020527</td>\n",
       "      <td>-0.006089</td>\n",
       "      <td>-0.129688</td>\n",
       "      <td>-0.075892</td>\n",
       "      <td>0.036725</td>\n",
       "      <td>0.570410</td>\n",
       "      <td>1.000000</td>\n",
       "    </tr>\n",
       "  </tbody>\n",
       "</table>\n",
       "</div>"
      ],
      "text/plain": [
       "                             Candidate Ref  Duration to accept offer  \\\n",
       "Candidate Ref                     1.000000                 -0.028813   \n",
       "Duration to accept offer         -0.028813                  1.000000   \n",
       "Notice period                    -0.120604                  0.363399   \n",
       "Pecent hike expected in CTC       0.077806                  0.019011   \n",
       "Percent hike offered in CTC       0.045478                  0.008789   \n",
       "Percent difference CTC           -0.016484                 -0.007743   \n",
       "Rex in Yrs                       -0.046759                  0.113525   \n",
       "Age                               0.305865                  0.020527   \n",
       "\n",
       "                             Notice period  Pecent hike expected in CTC  \\\n",
       "Candidate Ref                    -0.120604                     0.077806   \n",
       "Duration to accept offer          0.363399                     0.019011   \n",
       "Notice period                     1.000000                    -0.005878   \n",
       "Pecent hike expected in CTC      -0.005878                     1.000000   \n",
       "Percent hike offered in CTC      -0.013772                     0.669025   \n",
       "Percent difference CTC           -0.014865                    -0.161867   \n",
       "Rex in Yrs                        0.180287                    -0.211002   \n",
       "Age                              -0.006089                    -0.129688   \n",
       "\n",
       "                             Percent hike offered in CTC  \\\n",
       "Candidate Ref                                   0.045478   \n",
       "Duration to accept offer                        0.008789   \n",
       "Notice period                                  -0.013772   \n",
       "Pecent hike expected in CTC                     0.669025   \n",
       "Percent hike offered in CTC                     1.000000   \n",
       "Percent difference CTC                          0.597971   \n",
       "Rex in Yrs                                     -0.107519   \n",
       "Age                                            -0.075892   \n",
       "\n",
       "                             Percent difference CTC  Rex in Yrs       Age  \n",
       "Candidate Ref                             -0.016484   -0.046759  0.305865  \n",
       "Duration to accept offer                  -0.007743    0.113525  0.020527  \n",
       "Notice period                             -0.014865    0.180287 -0.006089  \n",
       "Pecent hike expected in CTC               -0.161867   -0.211002 -0.129688  \n",
       "Percent hike offered in CTC                0.597971   -0.107519 -0.075892  \n",
       "Percent difference CTC                     1.000000    0.080041  0.036725  \n",
       "Rex in Yrs                                 0.080041    1.000000  0.570410  \n",
       "Age                                        0.036725    0.570410  1.000000  "
      ]
     },
     "execution_count": 15,
     "metadata": {},
     "output_type": "execute_result"
    }
   ],
   "source": [
    "#Get the correlation of the columns\n",
    "df.corr()"
   ]
  },
  {
   "cell_type": "code",
   "execution_count": 16,
   "id": "c19ec231",
   "metadata": {},
   "outputs": [
    {
     "data": {
      "text/plain": [
       "<AxesSubplot:>"
      ]
     },
     "execution_count": 16,
     "metadata": {},
     "output_type": "execute_result"
    },
    {
     "data": {
      "image/png": "[encoded data removed]",
      "text/plain": [
       "<Figure size 1008x1008 with 2 Axes>"
      ]
     },
     "metadata": {
      "needs_background": "light"
     },
     "output_type": "display_data"
    }
   ],
   "source": [
    "#Visualize the correlation\n",
    "import matplotlib.pyplot as plt\n",
    "plt.figure(figsize=(14,14))  #14in by 14in\n",
    "sns.heatmap(df.corr(), annot=True, fmt='.0%')"
   ]
  },
  {
   "cell_type": "code",
   "execution_count": 17,
   "id": "00423e89",
   "metadata": {},
   "outputs": [
    {
     "name": "stderr",
     "output_type": "stream",
     "text": [
      "<ipython-input-17-65d4579fc77b>:5: DeprecationWarning: Converting `np.inexact` or `np.floating` to a dtype is deprecated. The current result is `float64` which is not strictly correct.\n",
      "  if df[column].dtype == np.number:\n"
     ]
    }
   ],
   "source": [
    "#Transform non-numeric columns into numerical columns\n",
    "from sklearn.preprocessing import LabelEncoder\n",
    "\n",
    "for column in df.columns:\n",
    "        if df[column].dtype == np.number:\n",
    "            continue\n",
    "        df[column] = LabelEncoder().fit_transform(df[column])"
   ]
  },
  {
   "cell_type": "code",
   "execution_count": 18,
   "id": "3cfd3112",
   "metadata": {},
   "outputs": [],
   "source": [
    "#Split the data into independent 'X' and dependent 'Y' variables\n",
    "X = df.loc[:,\"DOJ Extended\":\"Age\"].values\n",
    "Y = df.loc[:, \"Status\"].values"
   ]
  },
  {
   "cell_type": "code",
   "execution_count": 19,
   "id": "b834c1cc",
   "metadata": {},
   "outputs": [],
   "source": [
    "# Split the dataset into 75% Training set and 25% Testing set\n",
    "from sklearn.model_selection import train_test_split\n",
    "X_train, X_test, Y_train, Y_test = train_test_split(X, Y, test_size = 0.25, random_state = 0)"
   ]
  },
  {
   "cell_type": "code",
   "execution_count": 20,
   "id": "f56f7d8f",
   "metadata": {},
   "outputs": [
    {
     "data": {
      "text/plain": [
       "array([0, 0, 0, ..., 1, 0, 0])"
      ]
     },
     "execution_count": 20,
     "metadata": {},
     "output_type": "execute_result"
    }
   ],
   "source": [
    "Y_train"
   ]
  },
  {
   "cell_type": "code",
   "execution_count": 21,
   "id": "364d779e",
   "metadata": {},
   "outputs": [],
   "source": [
    "#feature Scaling  \n",
    "from sklearn.preprocessing import StandardScaler    \n",
    "st_x= StandardScaler()    \n",
    "X_train= st_x.fit_transform(X_train)    \n",
    "X_test= st_x.transform(X_test)  "
   ]
  },
  {
   "cell_type": "code",
   "execution_count": 22,
   "id": "7a011e62",
   "metadata": {},
   "outputs": [],
   "source": [
    "##Use Logistic Regression algorithm\n",
    "from sklearn.linear_model import LogisticRegression\n",
    "model = LogisticRegression()"
   ]
  },
  {
   "cell_type": "code",
   "execution_count": 23,
   "id": "43baef8f",
   "metadata": {},
   "outputs": [
    {
     "data": {
      "text/plain": [
       "LogisticRegression()"
      ]
     },
     "execution_count": 23,
     "metadata": {},
     "output_type": "execute_result"
    }
   ],
   "source": [
    "model.fit(X_train, Y_train)"
   ]
  },
  {
   "cell_type": "code",
   "execution_count": 24,
   "id": "e073d783",
   "metadata": {},
   "outputs": [
    {
     "data": {
      "text/plain": [
       "array([[-5.05277095e-02, -9.83721762e-04,  4.13215201e-01,\n",
       "        -6.35535985e-02,  1.11887460e-01, -1.25115271e-01,\n",
       "         3.39292855e-02,  6.70941522e-02, -2.07649564e+00,\n",
       "         4.76324483e-02, -2.54148514e-01,  1.87328475e-01,\n",
       "        -1.41897325e-01, -1.57470749e-01, -2.09895776e-01]])"
      ]
     },
     "execution_count": 24,
     "metadata": {},
     "output_type": "execute_result"
    }
   ],
   "source": [
    "model.coef_"
   ]
  },
  {
   "cell_type": "code",
   "execution_count": 25,
   "id": "cab60915",
   "metadata": {},
   "outputs": [
    {
     "name": "stdout",
     "output_type": "stream",
     "text": [
      "                 Results: Ordinary least squares\n",
      "==================================================================\n",
      "Model:              OLS              Adj. R-squared:     0.094    \n",
      "Dependent Variable: y                AIC:                5868.3113\n",
      "Date:               2022-05-29 09:01 BIC:                5977.4070\n",
      "No. Observations:   6758             Log-Likelihood:     -2918.2  \n",
      "Df Model:           15               F-statistic:        47.47    \n",
      "Df Residuals:       6742             Prob (F-statistic): 1.10e-134\n",
      "R-squared:          0.096            Scale:              0.13919  \n",
      "--------------------------------------------------------------------\n",
      "           Coef.    Std.Err.      t       P>|t|     [0.025    0.975]\n",
      "--------------------------------------------------------------------\n",
      "const      0.1894     0.0045    41.7342   0.0000    0.1805    0.1983\n",
      "x1        -0.0092     0.0048    -1.8987   0.0576   -0.0187    0.0003\n",
      "x2        -0.0021     0.0052    -0.4003   0.6889   -0.0123    0.0081\n",
      "x3         0.0648     0.0050    12.9252   0.0000    0.0549    0.0746\n",
      "x4        -0.0065     0.0073    -0.8853   0.3760   -0.0208    0.0079\n",
      "x5         0.0163     0.0197     0.8284   0.4075   -0.0223    0.0549\n",
      "x6        -0.0185     0.0249    -0.7433   0.4573   -0.0673    0.0303\n",
      "x7         0.0050     0.0193     0.2575   0.7968   -0.0329    0.0429\n",
      "x8         0.0066     0.0046     1.4268   0.1537   -0.0025    0.0157\n",
      "x9        -0.0717     0.0046   -15.6243   0.0000   -0.0807   -0.0627\n",
      "x10        0.0061     0.0046     1.3263   0.1848   -0.0029    0.0152\n",
      "x11       -0.0340     0.0047    -7.2840   0.0000   -0.0431   -0.0248\n",
      "x12        0.0235     0.0076     3.0761   0.0021    0.0085    0.0384\n",
      "x13       -0.0211     0.0054    -3.9288   0.0001   -0.0316   -0.0106\n",
      "x14       -0.0219     0.0049    -4.4574   0.0000   -0.0315   -0.0122\n",
      "x15       -0.0275     0.0056    -4.8916   0.0000   -0.0385   -0.0165\n",
      "------------------------------------------------------------------\n",
      "Omnibus:             1220.504      Durbin-Watson:         1.955   \n",
      "Prob(Omnibus):       0.000         Jarque-Bera (JB):      2012.932\n",
      "Skew:                1.330         Prob(JB):              0.000   \n",
      "Kurtosis:            3.270         Condition No.:         13      \n",
      "==================================================================\n",
      "\n"
     ]
    }
   ],
   "source": [
    "import statsmodels.api as sm\n",
    "from scipy import stats\n",
    "X2 = sm.add_constant(X_train)\n",
    "mod = sm.OLS(Y_train,X2)\n",
    "fii = mod.fit()\n",
    "print(fii.summary2())"
   ]
  },
  {
   "cell_type": "markdown",
   "id": "753ecd16",
   "metadata": {},
   "source": [
    "# Question3: Devise a predictive algorithm to calculate the probability of acceptance of an offer and finally joining the company after offer acceptance."
   ]
  },
  {
   "cell_type": "code",
   "execution_count": 26,
   "id": "17685991",
   "metadata": {},
   "outputs": [],
   "source": [
    "y_pred_prob = model.predict_proba(X_test)"
   ]
  },
  {
   "cell_type": "code",
   "execution_count": 27,
   "id": "733dc736",
   "metadata": {},
   "outputs": [
    {
     "data": {
      "text/plain": [
       "array([[8.19438622e-01, 1.80561378e-01],\n",
       "       [9.99076133e-01, 9.23866501e-04],\n",
       "       [7.90353023e-01, 2.09646977e-01],\n",
       "       ...,\n",
       "       [9.45051501e-01, 5.49484993e-02],\n",
       "       [8.04891946e-01, 1.95108054e-01],\n",
       "       [7.92191049e-01, 2.07808951e-01]])"
      ]
     },
     "execution_count": 27,
     "metadata": {},
     "output_type": "execute_result"
    }
   ],
   "source": [
    "y_pred_prob"
   ]
  },
  {
   "cell_type": "code",
   "execution_count": 28,
   "id": "239c3723",
   "metadata": {},
   "outputs": [
    {
     "data": {
      "text/plain": [
       "0.821127385707945"
      ]
     },
     "execution_count": 28,
     "metadata": {},
     "output_type": "execute_result"
    }
   ],
   "source": [
    "model.score(X_test,Y_test) #to get accuracy"
   ]
  },
  {
   "cell_type": "code",
   "execution_count": 29,
   "id": "e0fb0334",
   "metadata": {},
   "outputs": [],
   "source": [
    "from sklearn.metrics import confusion_matrix"
   ]
  },
  {
   "cell_type": "code",
   "execution_count": 32,
   "id": "0a585f34",
   "metadata": {},
   "outputs": [
    {
     "name": "stdout",
     "output_type": "stream",
     "text": [
      "[[1823   25]\n",
      " [ 378   27]]\n"
     ]
    }
   ],
   "source": [
    "y_pred = model.predict(X_test)\n",
    "cf_matrix = confusion_matrix(Y_test, y_pred)\n",
    "print(cf_matrix)"
   ]
  },
  {
   "cell_type": "code",
   "execution_count": 36,
   "id": "fea12263",
   "metadata": {},
   "outputs": [
    {
     "data": {
      "image/png": "[encoded data removed]",
      "text/plain": [
       "<Figure size 432x288 with 2 Axes>"
      ]
     },
     "metadata": {
      "needs_background": "light"
     },
     "output_type": "display_data"
    }
   ],
   "source": [
    "#Visualize the confusion matrix\n",
    "import seaborn as sns\n",
    "\n",
    "ax = sns.heatmap(cf_matrix, annot= True, cmap='Blues')\n",
    "\n",
    "ax.set_title('Seaborn Confusion Matrix with labels\\n\\n');\n",
    "ax.set_xlabel('\\nPredicted Values')\n",
    "ax.set_ylabel('Actual Values ');\n",
    "\n",
    "## Ticket labels - List must be in alphabetical order\n",
    "ax.xaxis.set_ticklabels(['False','True'])\n",
    "ax.yaxis.set_ticklabels(['False','True'])\n",
    "\n",
    "## Display the visualization of the Confusion Matrix.\n",
    "plt.show()"
   ]
  },
  {
   "cell_type": "code",
   "execution_count": 34,
   "id": "afc08a32",
   "metadata": {},
   "outputs": [
    {
     "name": "stdout",
     "output_type": "stream",
     "text": [
      "f1_score =  0.5093155886344145\n",
      "accuracy_score =  0.821127385707945\n",
      "precision_score =  0.6737453255513228\n",
      "sensitivity =  0.5265692640692641\n",
      "specificity =  0.9864718614718615\n"
     ]
    }
   ],
   "source": [
    "from sklearn.metrics import roc_auc_score,accuracy_score, f1_score, precision_score, recall_score, classification_report, confusion_matrix\n",
    "print(\"f1_score = \",f1_score(Y_test,y_pred, average=\"macro\"))\n",
    "print(\"accuracy_score = \",accuracy_score(Y_test,y_pred))\n",
    "print(\"precision_score = \",precision_score(Y_test,y_pred, average=\"macro\"))\n",
    "print(\"sensitivity = \",recall_score(Y_test,y_pred, average=\"macro\")) #sensitivity\n",
    "tn, fp, fn, tp = confusion_matrix(Y_test, y_pred).ravel()\n",
    "specificity = tn / (tn+fp)\n",
    "print(\"specificity = \",specificity)"
   ]
  },
  {
   "cell_type": "markdown",
   "id": "c0ca1582",
   "metadata": {},
   "source": [
    "# Question5: What cut-off probability should Scalene Works use to classify joining and not joining the firm after accepting the offer?"
   ]
  },
  {
   "cell_type": "code",
   "execution_count": 39,
   "id": "173394d9",
   "metadata": {},
   "outputs": [
    {
     "name": "stdout",
     "output_type": "stream",
     "text": [
      "Area under the ROC curve : 0.724228\n"
     ]
    }
   ],
   "source": [
    "from sklearn import metrics\n",
    "from sklearn.metrics import roc_curve, auc\n",
    "fpr, tpr, thresholds = metrics.roc_curve(Y_test,y_pred_prob[:, -1])\n",
    "roc_auc = auc(fpr, tpr)\n",
    "print(\"Area under the ROC curve : %f\" % roc_auc)"
   ]
  },
  {
   "cell_type": "code",
   "execution_count": 40,
   "id": "20fbb9a3",
   "metadata": {},
   "outputs": [
    {
     "data": {
      "text/plain": [
       "<matplotlib.legend.Legend at 0x2933cdcb1c0>"
      ]
     },
     "execution_count": 40,
     "metadata": {},
     "output_type": "execute_result"
    },
    {
     "data": {
      "image/png": "[encoded data removed]",
      "text/plain": [
       "<Figure size 432x288 with 1 Axes>"
      ]
     },
     "metadata": {
      "needs_background": "light"
     },
     "output_type": "display_data"
    }
   ],
   "source": [
    "false_pos_rate, true_pos_rate, proba = roc_curve(Y_test,y_pred_prob[:, -1])\n",
    "plt.figure()\n",
    "plt.plot([0,1], [0,1], linestyle=\"--\") # plot random curve\n",
    "plt.plot(false_pos_rate, true_pos_rate, marker=\".\", label=f\"AUC = {roc_auc_score(Y_test,y_pred_prob[:, -1])}\")\n",
    "plt.title(\"ROC Curve\")\n",
    "plt.ylabel(\"True Positive Rate\")\n",
    "plt.xlabel(\"False Positive Rate\")\n",
    "plt.legend(loc=\"lower right\")"
   ]
  },
  {
   "cell_type": "code",
   "execution_count": 41,
   "id": "2570d714",
   "metadata": {},
   "outputs": [],
   "source": [
    "optimal_proba_cutoff = sorted(list(zip(np.abs(true_pos_rate - false_pos_rate), proba)), key=lambda i: i[0], reverse=True)[0][1]\n",
    "roc_predictions = [1 if i >= optimal_proba_cutoff else 0 for i in y_pred_prob[:, -1]]"
   ]
  },
  {
   "cell_type": "code",
   "execution_count": 42,
   "id": "b953271f",
   "metadata": {},
   "outputs": [
    {
     "name": "stdout",
     "output_type": "stream",
     "text": [
      "0.17326073167373335\n"
     ]
    }
   ],
   "source": [
    "print(optimal_proba_cutoff)"
   ]
  },
  {
   "cell_type": "code",
   "execution_count": 43,
   "id": "d1d30b66",
   "metadata": {},
   "outputs": [
    {
     "name": "stdout",
     "output_type": "stream",
     "text": [
      "(array([0.00002304, 0.00002404, 0.00001526, ..., 0.00056989, 0.00001784,\n",
      "       0.000042  ]), array([1., 1., 1., ..., 1., 1., 1.]))\n"
     ]
    }
   ],
   "source": [
    "#Cooks distance\n",
    "import numpy as np\n",
    "np.set_printoptions(suppress=True)\n",
    "\n",
    "#create instance of influence\n",
    "influence = fii.get_influence()\n",
    "\n",
    "#obtain Cook's distance for each observation\n",
    "cooks = influence.cooks_distance\n",
    "\n",
    "#display Cook's distances\n",
    "print(cooks)"
   ]
  },
  {
   "cell_type": "code",
   "execution_count": 44,
   "id": "71ed06af",
   "metadata": {},
   "outputs": [
    {
     "data": {
      "text/plain": [
       "RangeIndex(start=0, stop=6758, step=1)"
      ]
     },
     "execution_count": 44,
     "metadata": {},
     "output_type": "execute_result"
    }
   ],
   "source": [
    "#Visualizing Cooks Distance\n",
    "X_train, X_test, Y_train, Y_test = train_test_split(X, Y, test_size = 0.25, random_state = 0)\n",
    "train_df = pd.DataFrame(X_train)\n",
    "train_df.index\n",
    "#X_train.index"
   ]
  },
  {
   "cell_type": "code",
   "execution_count": 45,
   "id": "cfe6f5bb",
   "metadata": {},
   "outputs": [
    {
     "data": {
      "image/png": "[encoded data removed]",
      "text/plain": [
       "<Figure size 432x288 with 1 Axes>"
      ]
     },
     "metadata": {
      "needs_background": "light"
     },
     "output_type": "display_data"
    }
   ],
   "source": [
    "import matplotlib.pyplot as plt\n",
    "\n",
    "plt.scatter(train_df.index, cooks[0])\n",
    "plt.xlabel('x')\n",
    "plt.ylabel('Cooks Distance')\n",
    "plt.show()\n"
   ]
  },
  {
   "cell_type": "markdown",
   "id": "f43e0357",
   "metadata": {},
   "source": [
    "# Using Random Forest Algorithm #"
   ]
  },
  {
   "cell_type": "code",
   "execution_count": null,
   "id": "27892aee",
   "metadata": {},
   "outputs": [],
   "source": []
  },
  {
   "cell_type": "code",
   "execution_count": 47,
   "id": "944e9a65",
   "metadata": {},
   "outputs": [
    {
     "data": {
      "text/plain": [
       "RandomForestClassifier(criterion='entropy', n_estimators=10, random_state=0)"
      ]
     },
     "execution_count": 47,
     "metadata": {},
     "output_type": "execute_result"
    }
   ],
   "source": [
    "#Use Random Forest Classification algorithm\n",
    "from sklearn.ensemble import RandomForestClassifier\n",
    "forest = RandomForestClassifier(n_estimators = 10, criterion = 'entropy', random_state = 0)\n",
    "forest.fit(X_train, Y_train)"
   ]
  },
  {
   "cell_type": "code",
   "execution_count": 48,
   "id": "a9f018a5",
   "metadata": {},
   "outputs": [
    {
     "data": {
      "text/plain": [
       "0.8131380381713271"
      ]
     },
     "execution_count": 48,
     "metadata": {},
     "output_type": "execute_result"
    }
   ],
   "source": [
    "#Get the accuracy on the testing data\n",
    "forest.score(X_test, Y_test)"
   ]
  },
  {
   "cell_type": "code",
   "execution_count": 49,
   "id": "aad72e8d",
   "metadata": {},
   "outputs": [
    {
     "name": "stdout",
     "output_type": "stream",
     "text": [
      "0.25486725663716814\n"
     ]
    }
   ],
   "source": [
    "#F1 Score\n",
    "#F1 Score is the weighted average of Precision and Recall. Therefore, this score takes both false positives and false negatives into account. Intuitively it is not as easy to understand as accuracy, but F1 is usually more useful than accuracy, especially if you have an uneven class distribution. Accuracy works best if false positives and false negatives have similar cost. \n",
    "#If the cost of false positives and false negatives are very different, it’s better to look at both Precision and Recall.\n",
    "# Import f1_score\n",
    "from sklearn.metrics import f1_score\n",
    "# Predict the labels of the test set\n",
    "y_pred2 = forest.predict(X_test)\n",
    "\n",
    "# Print the F1 score\n",
    "print(f1_score(Y_test, y_pred2))"
   ]
  },
  {
   "cell_type": "code",
   "execution_count": 50,
   "id": "13169714",
   "metadata": {},
   "outputs": [
    {
     "name": "stdout",
     "output_type": "stream",
     "text": [
      "[[1760   88]\n",
      " [ 333   72]]\n",
      "Model Testing Precision = \"0.45!\"\n",
      "Model Testing Recall = \"0.17777777777777778!\"\n",
      "0.25486725663716814\n",
      "\n"
     ]
    }
   ],
   "source": [
    "#Show the confusion matrix and accuracy for  the model on the test data\n",
    "#Classification accuracy is the ratio of correct predictions to total predictions made.\n",
    "from sklearn.metrics import confusion_matrix\n",
    "\n",
    "cm = confusion_matrix(Y_test, forest.predict(X_test))\n",
    "  \n",
    "TN = cm[0][0]\n",
    "TP = cm[1][1]\n",
    "FN = cm[1][0]\n",
    "FP = cm[0][1]\n",
    "  \n",
    "print(cm)\n",
    "print('Model Testing Precision = \"{}!\"'.format(  TP  / (TP + FP )))\n",
    "print('Model Testing Recall = \"{}!\"'.format(  TP  / (TP + FN )))\n",
    "print(f1_score(Y_test, y_pred2))\n",
    "print()# Print a new line"
   ]
  },
  {
   "cell_type": "code",
   "execution_count": 59,
   "id": "003e7fec",
   "metadata": {},
   "outputs": [
    {
     "data": {
      "text/plain": [
       "Index(['DOJ Extended', 'Duration to accept offer', 'Notice period',\n",
       "       'Offered band', 'Pecent hike expected in CTC',\n",
       "       'Percent hike offered in CTC', 'Percent difference CTC',\n",
       "       'Joining Bonus', 'Candidate relocate actual', 'Gender',\n",
       "       'Candidate Source', 'Rex in Yrs', 'LOB', 'Location', 'Age'],\n",
       "      dtype='object')"
      ]
     },
     "execution_count": 59,
     "metadata": {},
     "output_type": "execute_result"
    }
   ],
   "source": [
    "df.iloc[:, 2:df.shape[1]].columns"
   ]
  },
  {
   "cell_type": "code",
   "execution_count": 56,
   "id": "0d35f2dc",
   "metadata": {},
   "outputs": [
    {
     "data": {
      "text/plain": [
       "array([0.021, 0.154, 0.056, 0.021, 0.12 , 0.14 , 0.107, 0.009, 0.059,\n",
       "       0.019, 0.032, 0.073, 0.057, 0.045, 0.087])"
      ]
     },
     "execution_count": 56,
     "metadata": {},
     "output_type": "execute_result"
    }
   ],
   "source": [
    "np.round(forest.feature_importances_,3)"
   ]
  },
  {
   "cell_type": "code",
   "execution_count": 58,
   "id": "3b970372",
   "metadata": {},
   "outputs": [
    {
     "data": {
      "text/html": [
       "<div>\n",
       "<style scoped>\n",
       "    .dataframe tbody tr th:only-of-type {\n",
       "        vertical-align: middle;\n",
       "    }\n",
       "\n",
       "    .dataframe tbody tr th {\n",
       "        vertical-align: top;\n",
       "    }\n",
       "\n",
       "    .dataframe thead th {\n",
       "        text-align: right;\n",
       "    }\n",
       "</style>\n",
       "<table border=\"1\" class=\"dataframe\">\n",
       "  <thead>\n",
       "    <tr style=\"text-align: right;\">\n",
       "      <th></th>\n",
       "      <th>importance</th>\n",
       "    </tr>\n",
       "    <tr>\n",
       "      <th>feature</th>\n",
       "      <th></th>\n",
       "    </tr>\n",
       "  </thead>\n",
       "  <tbody>\n",
       "    <tr>\n",
       "      <th>Duration to accept offer</th>\n",
       "      <td>0.154</td>\n",
       "    </tr>\n",
       "    <tr>\n",
       "      <th>Percent hike offered in CTC</th>\n",
       "      <td>0.140</td>\n",
       "    </tr>\n",
       "    <tr>\n",
       "      <th>Pecent hike expected in CTC</th>\n",
       "      <td>0.120</td>\n",
       "    </tr>\n",
       "    <tr>\n",
       "      <th>Percent difference CTC</th>\n",
       "      <td>0.107</td>\n",
       "    </tr>\n",
       "    <tr>\n",
       "      <th>Age</th>\n",
       "      <td>0.087</td>\n",
       "    </tr>\n",
       "    <tr>\n",
       "      <th>Rex in Yrs</th>\n",
       "      <td>0.073</td>\n",
       "    </tr>\n",
       "    <tr>\n",
       "      <th>Candidate relocate actual</th>\n",
       "      <td>0.059</td>\n",
       "    </tr>\n",
       "    <tr>\n",
       "      <th>LOB</th>\n",
       "      <td>0.057</td>\n",
       "    </tr>\n",
       "    <tr>\n",
       "      <th>Notice period</th>\n",
       "      <td>0.056</td>\n",
       "    </tr>\n",
       "    <tr>\n",
       "      <th>Location</th>\n",
       "      <td>0.045</td>\n",
       "    </tr>\n",
       "    <tr>\n",
       "      <th>Candidate Source</th>\n",
       "      <td>0.032</td>\n",
       "    </tr>\n",
       "    <tr>\n",
       "      <th>DOJ Extended</th>\n",
       "      <td>0.021</td>\n",
       "    </tr>\n",
       "    <tr>\n",
       "      <th>Offered band</th>\n",
       "      <td>0.021</td>\n",
       "    </tr>\n",
       "    <tr>\n",
       "      <th>Gender</th>\n",
       "      <td>0.019</td>\n",
       "    </tr>\n",
       "    <tr>\n",
       "      <th>Joining Bonus</th>\n",
       "      <td>0.009</td>\n",
       "    </tr>\n",
       "  </tbody>\n",
       "</table>\n",
       "</div>"
      ],
      "text/plain": [
       "                             importance\n",
       "feature                                \n",
       "Duration to accept offer          0.154\n",
       "Percent hike offered in CTC       0.140\n",
       "Pecent hike expected in CTC       0.120\n",
       "Percent difference CTC            0.107\n",
       "Age                               0.087\n",
       "Rex in Yrs                        0.073\n",
       "Candidate relocate actual         0.059\n",
       "LOB                               0.057\n",
       "Notice period                     0.056\n",
       "Location                          0.045\n",
       "Candidate Source                  0.032\n",
       "DOJ Extended                      0.021\n",
       "Offered band                      0.021\n",
       "Gender                            0.019\n",
       "Joining Bonus                     0.009"
      ]
     },
     "execution_count": 58,
     "metadata": {},
     "output_type": "execute_result"
    }
   ],
   "source": [
    "# Return the feature importances (the higher, the more important the feature).\n",
    "importances = pd.DataFrame({'feature':df.iloc[:, 2:df.shape[1]].columns,'importance':np.round(forest.feature_importances_,3)}) #Note: The target column is at position 0\n",
    "importances = importances.sort_values('importance',ascending=False).set_index('feature')\n",
    "importances"
   ]
  },
  {
   "cell_type": "code",
   "execution_count": 60,
   "id": "df84eb35",
   "metadata": {},
   "outputs": [
    {
     "data": {
      "text/plain": [
       "<AxesSubplot:xlabel='feature'>"
      ]
     },
     "execution_count": 60,
     "metadata": {},
     "output_type": "execute_result"
    },
    {
     "data": {
      "image/png": "[encoded data removed]",
      "text/plain": [
       "<Figure size 432x288 with 1 Axes>"
      ]
     },
     "metadata": {
      "needs_background": "light"
     },
     "output_type": "display_data"
    }
   ],
   "source": [
    "importances.reset_index(inplace = True)\n",
    "#Visualize the importance\n",
    "importances.plot.bar(x=\"feature\",y=\"importance\")"
   ]
  },
  {
   "cell_type": "code",
   "execution_count": null,
   "id": "dc4cb6c8",
   "metadata": {},
   "outputs": [],
   "source": []
  }
 ],
 "metadata": {
  "kernelspec": {
   "display_name": "Python 3",
   "language": "python",
   "name": "python3"
  },
  "language_info": {
   "codemirror_mode": {
    "name": "ipython",
    "version": 3
   },
   "file_extension": ".py",
   "mimetype": "text/x-python",
   "name": "python",
   "nbconvert_exporter": "python",
   "pygments_lexer": "ipython3",
   "version": "3.8.8"
  }
 },
 "nbformat": 4,
 "nbformat_minor": 5
}
